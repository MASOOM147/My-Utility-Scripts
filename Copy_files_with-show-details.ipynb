{
 "cells": [
  {
   "cell_type": "code",
   "execution_count": null,
   "metadata": {},
   "outputs": [],
   "source": [
    "# Import necessary libraries\n",
    "import shutil\n",
    "import os\n",
    "from tqdm import tqdm"
   ]
  },
  {
   "cell_type": "code",
   "execution_count": null,
   "metadata": {},
   "outputs": [],
   "source": [
    "# Function to copy a file with progress\n",
    "def copy_file_with_progress(source_path, destination_path):\n",
    "    try:\n",
    "        # Get the file size\n",
    "        file_size = os.path.getsize(source_path)\n",
    "\n",
    "        # Open source file for reading\n",
    "        with open(source_path, 'rb') as src_file:\n",
    "            # Create destination file for writing\n",
    "            with open(destination_path, 'wb') as dest_file:\n",
    "                with tqdm(total=file_size, unit='B', unit_scale=True, unit_divisor=1024) as pbar:\n",
    "                    while True:\n",
    "                        # Read and write in chunks\n",
    "                        chunk = src_file.read(1024 * 1024)  # 1 MB chunks\n",
    "                        if not chunk:\n",
    "                            break\n",
    "                        dest_file.write(chunk)\n",
    "                        pbar.update(len(chunk))\n",
    "        print(\"Done: File copied successfully.\")\n",
    "    except Exception as e:\n",
    "        print(f\"Error: {e}\")"
   ]
  },
  {
   "cell_type": "code",
   "execution_count": null,
   "metadata": {},
   "outputs": [],
   "source": [
    "# Define source and destination file paths\n",
    "source_file = \"source_file.txt\"\n",
    "destination_file = \"destination_folder/destination_file.txt\""
   ]
  },
  {
   "cell_type": "code",
   "execution_count": null,
   "metadata": {},
   "outputs": [],
   "source": [
    "# Copy the file with progress\n",
    "copy_file_with_progress(source_file, destination_file)"
   ]
  }
 ],
 "metadata": {
  "language_info": {
   "name": "python"
  }
 },
 "nbformat": 4,
 "nbformat_minor": 2
}
